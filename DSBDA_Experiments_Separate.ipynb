{
 "cells": [
  {
   "cell_type": "markdown",
   "id": "3ea393dd",
   "metadata": {},
   "source": [
    "# Experiment 1: Data Preprocessing – Handling Missing Values"
   ]
  },
  {
   "cell_type": "code",
   "execution_count": null,
   "id": "b1989b5d",
   "metadata": {},
   "outputs": [],
   "source": [
    "from io import StringIO\n",
    "import pandas as pd\n",
    "\n",
    "data_text = '''Country,Age,Salary,Purchased\n",
    "France,44,72000,No\n",
    "Spain,27,48000,Yes\n",
    "Germany,30,54000,No\n",
    "Spain,38,61000,No\n",
    "Germany,40,,Yes\n",
    "France,35,58000,Yes\n",
    "Spain,,52000,No\n",
    "France,48,79000,Yes\n",
    "Germany,50,83000,No\n",
    "France,37,67000,Yes\n",
    "'''\n",
    "data = pd.read_csv(StringIO(data_text))\n",
    "print(\"Original Data:\")\n",
    "print(data)\n",
    "data['Age'].fillna(data['Age'].mean(), inplace=True)\n",
    "data['Salary'].fillna(data['Salary'].mean(), inplace=True)\n",
    "print(\"After Filling Missing Values:\")\n",
    "print(data)"
   ]
  },
  {
   "cell_type": "markdown",
   "id": "ab28589d",
   "metadata": {},
   "source": [
    "# Experiment 2: Label Encoding and One Hot Encoding"
   ]
  },
  {
   "cell_type": "code",
   "execution_count": null,
   "id": "8ae1800d",
   "metadata": {},
   "outputs": [],
   "source": [
    "from sklearn.preprocessing import LabelEncoder, OneHotEncoder\n",
    "from sklearn.compose import ColumnTransformer\n",
    "\n",
    "le = LabelEncoder()\n",
    "data['Country'] = le.fit_transform(data['Country'])\n",
    "ct = ColumnTransformer(transformers=[('encoder', OneHotEncoder(), [0])], remainder='passthrough')\n",
    "data_encoded = ct.fit_transform(data)\n",
    "print(\"Encoded Data:\")\n",
    "print(data_encoded)"
   ]
  },
  {
   "cell_type": "markdown",
   "id": "cbe7eff3",
   "metadata": {},
   "source": [
    "# Experiment 3: Feature Scaling"
   ]
  },
  {
   "cell_type": "code",
   "execution_count": null,
   "id": "b1ba7ff2",
   "metadata": {},
   "outputs": [],
   "source": [
    "from sklearn.preprocessing import StandardScaler\n",
    "import pandas as pd\n",
    "\n",
    "data_scaled = pd.DataFrame(data_encoded).copy()\n",
    "sc = StandardScaler()\n",
    "data_scaled.iloc[:, -2:] = sc.fit_transform(data_scaled.iloc[:, -2:])\n",
    "print(\"Scaled Data:\")\n",
    "print(data_scaled)"
   ]
  },
  {
   "cell_type": "markdown",
   "id": "4a774f58",
   "metadata": {},
   "source": [
    "# Experiment 4: Linear Regression"
   ]
  },
  {
   "cell_type": "code",
   "execution_count": null,
   "id": "e92b413c",
   "metadata": {},
   "outputs": [],
   "source": [
    "from sklearn.linear_model import LinearRegression\n",
    "import matplotlib.pyplot as plt\n",
    "\n",
    "salary_data = '''YearsExperience,Salary\n",
    "1.1,39343\n",
    "1.3,46205\n",
    "1.5,37731\n",
    "2.0,43525\n",
    "2.2,39891\n",
    "2.9,56642\n",
    "3.0,60150\n",
    "3.2,54445\n",
    "3.2,64445\n",
    "3.7,57189\n",
    "'''\n",
    "df_salary = pd.read_csv(StringIO(salary_data))\n",
    "X = df_salary[['YearsExperience']]\n",
    "y = df_salary['Salary']\n",
    "model = LinearRegression()\n",
    "model.fit(X, y)\n",
    "plt.scatter(X, y, color='red')\n",
    "plt.plot(X, model.predict(X), color='blue')\n",
    "plt.title(\"Salary vs Experience\")\n",
    "plt.xlabel(\"Years of Experience\")\n",
    "plt.ylabel(\"Salary\")\n",
    "plt.show()"
   ]
  },
  {
   "cell_type": "markdown",
   "id": "acc66eae",
   "metadata": {},
   "source": [
    "# Experiment 5: Logistic Regression"
   ]
  },
  {
   "cell_type": "code",
   "execution_count": null,
   "id": "66b2141a",
   "metadata": {},
   "outputs": [],
   "source": [
    "from sklearn.model_selection import train_test_split\n",
    "from sklearn.linear_model import LogisticRegression\n",
    "from sklearn.metrics import classification_report, confusion_matrix, accuracy_score\n",
    "\n",
    "ads_data = '''User ID,Gender,Age,EstimatedSalary,Purchased\n",
    "15624510,Male,19,19000,0\n",
    "15810944,Male,35,20000,0\n",
    "15668575,Female,26,43000,1\n",
    "15603246,Female,27,57000,1\n",
    "15804002,Male,19,76000,0\n",
    "'''\n",
    "df_ads = pd.read_csv(StringIO(ads_data))\n",
    "X = df_ads.iloc[:, [2, 3]].values\n",
    "y = df_ads.iloc[:, 4].values\n",
    "X_train, X_test, y_train, y_test = train_test_split(X, y, test_size=0.25, random_state=0)\n",
    "sc = StandardScaler()\n",
    "X_train = sc.fit_transform(X_train)\n",
    "X_test = sc.transform(X_test)\n",
    "model = LogisticRegression()\n",
    "model.fit(X_train, y_train)\n",
    "y_pred = model.predict(X_test)\n",
    "print(\"Confusion Matrix:\\n\", confusion_matrix(y_test, y_pred))\n",
    "print(\"Accuracy Score:\", accuracy_score(y_test, y_pred))\n",
    "print(\"Classification Report:\\n\", classification_report(y_test, y_pred))"
   ]
  },
  {
   "cell_type": "markdown",
   "id": "4a782165",
   "metadata": {},
   "source": [
    "# Experiment 6: Naive Bayes"
   ]
  },
  {
   "cell_type": "code",
   "execution_count": null,
   "id": "40df512c",
   "metadata": {},
   "outputs": [],
   "source": [
    "from sklearn.naive_bayes import GaussianNB\n",
    "from sklearn.datasets import load_iris\n",
    "\n",
    "iris = load_iris(as_frame=True)\n",
    "X = iris.data\n",
    "y = iris.target\n",
    "X_train, X_test, y_train, y_test = train_test_split(X, y, test_size=0.25, random_state=0)\n",
    "model = GaussianNB()\n",
    "model.fit(X_train, y_train)\n",
    "y_pred = model.predict(X_test)\n",
    "print(\"Naive Bayes Classification Report:\\n\", classification_report(y_test, y_pred))"
   ]
  },
  {
   "cell_type": "markdown",
   "id": "450e73a2",
   "metadata": {},
   "source": [
    "# Experiment 7: NLP Preprocessing"
   ]
  },
  {
   "cell_type": "code",
   "execution_count": null,
   "id": "30c133c1",
   "metadata": {},
   "outputs": [],
   "source": [
    "import nltk\n",
    "from nltk.corpus import stopwords\n",
    "from nltk.tokenize import word_tokenize, sent_tokenize\n",
    "from nltk.stem import PorterStemmer, WordNetLemmatizer\n",
    "from nltk import pos_tag\n",
    "\n",
    "nltk.download('punkt')\n",
    "nltk.download('stopwords')\n",
    "nltk.download('wordnet')\n",
    "nltk.download('averaged_perceptron_tagger')\n",
    "\n",
    "para = \"Rajgad is a hill fort in Maharashtra. It was the capital of the Maratha Empire.\"\n",
    "tokens = word_tokenize(para)\n",
    "sentences = sent_tokenize(para)\n",
    "filtered = [w for w in tokens if w.lower() not in stopwords.words('english')]\n",
    "ps = PorterStemmer()\n",
    "stemmed = [ps.stem(w) for w in filtered]\n",
    "wnl = WordNetLemmatizer()\n",
    "lemmatized = [wnl.lemmatize(w, pos='v') for w in filtered]\n",
    "tags = pos_tag(tokens)\n",
    "print(\"Tokens:\", tokens)\n",
    "print(\"Sentences:\", sentences)\n",
    "print(\"Filtered:\", filtered)\n",
    "print(\"Stemmed:\", stemmed)\n",
    "print(\"Lemmatized:\", lemmatized)\n",
    "print(\"POS Tags:\", tags)"
   ]
  },
  {
   "cell_type": "markdown",
   "id": "ab86732b",
   "metadata": {},
   "source": [
    "# Experiment 8: Titanic Dataset - Visualization"
   ]
  },
  {
   "cell_type": "code",
   "execution_count": null,
   "id": "c820a9c8",
   "metadata": {},
   "outputs": [],
   "source": [
    "import seaborn as sns\n",
    "import matplotlib.pyplot as plt\n",
    "\n",
    "df_titanic = sns.load_dataset('titanic')\n",
    "sns.jointplot(x='age', y='fare', data=df_titanic)\n",
    "plt.show()"
   ]
  },
  {
   "cell_type": "markdown",
   "id": "e192b37f",
   "metadata": {},
   "source": [
    "# Experiment 9: Titanic Dataset - Boxplot"
   ]
  },
  {
   "cell_type": "code",
   "execution_count": null,
   "id": "a9f69f90",
   "metadata": {},
   "outputs": [],
   "source": [
    "sns.boxplot(x='sex', y='age', data=df_titanic)\n",
    "sns.boxplot(x='sex', y='age', hue='survived', data=df_titanic)\n",
    "plt.show()"
   ]
  },
  {
   "cell_type": "markdown",
   "id": "83b128ca",
   "metadata": {},
   "source": [
    "# Experiment 10: Iris Dataset - Visualization"
   ]
  },
  {
   "cell_type": "code",
   "execution_count": null,
   "id": "437cc0aa",
   "metadata": {},
   "outputs": [],
   "source": [
    "df_iris = sns.load_dataset('iris')\n",
    "sns.pairplot(df_iris, hue='species')\n",
    "sns.histplot(df_iris['sepal_length'], kde=True)\n",
    "sns.boxplot(x=df_iris['petal_length'])\n",
    "plt.show()"
   ]
  }
 ],
 "metadata": {
  "kernelspec": {
   "display_name": "Python 3",
   "name": "python3"
  },
  "language_info": {
   "name": "python",
   "version": "3.11"
  }
 },
 "nbformat": 4,
 "nbformat_minor": 5
}
